{
 "cells": [
  {
   "cell_type": "code",
   "execution_count": null,
   "metadata": {},
   "outputs": [],
   "source": [
    "import pandas as pd"
   ]
  },
  {
   "cell_type": "code",
   "execution_count": null,
   "metadata": {},
   "outputs": [],
   "source": [
    "fortune = pd.read_csv(\"fortune1000.csv\", index_col = \"Rank\")\n",
    "sectors = fortune.groupby(\"Sector\")\n",
    "fortune.head(3)"
   ]
  },
  {
   "cell_type": "code",
   "execution_count": null,
   "metadata": {},
   "outputs": [],
   "source": [
    "type(sectors)"
   ]
  },
  {
   "cell_type": "markdown",
   "metadata": {},
   "source": [
    "## The `.groupby()` Method"
   ]
  },
  {
   "cell_type": "code",
   "execution_count": null,
   "metadata": {},
   "outputs": [],
   "source": [
    "fortune = pd.read_csv(\"fortune1000.csv\", index_col = \"Rank\")\n",
    "sectors = fortune.groupby(\"Sector\")\n",
    "fortune.head(3)"
   ]
  },
  {
   "cell_type": "markdown",
   "metadata": {},
   "source": [
    "## Retrieve A Group with the `.get_group()` Method"
   ]
  },
  {
   "cell_type": "code",
   "execution_count": null,
   "metadata": {},
   "outputs": [],
   "source": [
    "fortune = pd.read_csv(\"fortune1000.csv\", index_col = \"Rank\")\n",
    "sectors = fortune.groupby(\"Sector\")\n",
    "fortune.head(3)"
   ]
  },
  {
   "cell_type": "markdown",
   "metadata": {},
   "source": [
    "## Methods on the Groupby Object and `DataFrame` Columns"
   ]
  },
  {
   "cell_type": "code",
   "execution_count": null,
   "metadata": {},
   "outputs": [],
   "source": [
    "fortune = pd.read_csv(\"fortune1000.csv\", index_col = \"Rank\")\n",
    "sectors = fortune.groupby(\"Sector\")\n",
    "fortune.head(3)"
   ]
  },
  {
   "cell_type": "code",
   "execution_count": null,
   "metadata": {},
   "outputs": [],
   "source": [
    "sectors.get_group(\"Apparel\")[\"Profits\"].sum()"
   ]
  },
  {
   "cell_type": "code",
   "execution_count": null,
   "metadata": {},
   "outputs": [],
   "source": [
    "sectors.max()\n",
    "sectors.min()\n",
    "sectors.sum()\n",
    "sectors.mean()"
   ]
  },
  {
   "cell_type": "code",
   "execution_count": null,
   "metadata": {},
   "outputs": [],
   "source": [
    "sectors[\"Revenue\"].sum()\n",
    "sectors[\"Employees\"].sum()\n",
    "sectors[\"Profits\"].max()\n",
    "sectors[\"Profits\"].min()\n",
    "sectors[\"Employees\"].mean()\n",
    "\n",
    "sectors[[\"Revenue\", \"Profits\"]].sum()"
   ]
  },
  {
   "cell_type": "markdown",
   "metadata": {},
   "source": [
    "## Grouping by Multiple Columns"
   ]
  },
  {
   "cell_type": "code",
   "execution_count": null,
   "metadata": {},
   "outputs": [],
   "source": [
    "fortune = pd.read_csv(\"fortune1000.csv\", index_col = \"Rank\")\n",
    "sectors = fortune.groupby([\"Sector\", \"Industry\"])\n",
    "fortune.head(3)"
   ]
  },
  {
   "cell_type": "code",
   "execution_count": null,
   "metadata": {},
   "outputs": [],
   "source": [
    "sectors.size()\n",
    "sectors.sum()\n",
    "sectors[\"Revenue\"].sum()\n",
    "sectors[\"Employees\"].mean()"
   ]
  },
  {
   "cell_type": "markdown",
   "metadata": {},
   "source": [
    "## The `.agg()` Method"
   ]
  },
  {
   "cell_type": "code",
   "execution_count": null,
   "metadata": {},
   "outputs": [],
   "source": [
    "fortune = pd.read_csv(\"fortune1000.csv\", index_col = \"Rank\")\n",
    "sectors = fortune.groupby(\"Sector\")\n",
    "fortune.head(3)"
   ]
  },
  {
   "cell_type": "code",
   "execution_count": null,
   "metadata": {},
   "outputs": [],
   "source": [
    "sectors[\"Employees\"].mean()"
   ]
  },
  {
   "cell_type": "code",
   "execution_count": null,
   "metadata": {},
   "outputs": [],
   "source": [
    "sectors.agg({\"Revenue\" : [\"sum\", \"mean\"],\n",
    "             \"Profits\" : \"sum\",\n",
    "              \"Employees\" : \"mean\"})"
   ]
  },
  {
   "cell_type": "code",
   "execution_count": null,
   "metadata": {
    "scrolled": true
   },
   "outputs": [],
   "source": [
    "sectors.agg([\"size\", \"sum\", \"mean\"])"
   ]
  },
  {
   "cell_type": "markdown",
   "metadata": {},
   "source": [
    "## Iterating through Groups"
   ]
  },
  {
   "cell_type": "code",
   "execution_count": null,
   "metadata": {},
   "outputs": [],
   "source": [
    "fortune = pd.read_csv(\"fortune1000.csv\", index_col = \"Rank\")\n",
    "sectors = fortune.groupby(\"Sector\")\n",
    "fortune.head(3)"
   ]
  },
  {
   "cell_type": "code",
   "execution_count": null,
   "metadata": {},
   "outputs": [],
   "source": [
    "df = pd.DataFrame(columns = fortune.columns)\n",
    "df"
   ]
  },
  {
   "cell_type": "code",
   "execution_count": null,
   "metadata": {},
   "outputs": [],
   "source": [
    "for sector, data in sectors:\n",
    "    highest_revenue_company_in_group = data.nlargest(1, \"Revenue\")\n",
    "    df = df.append(highest_revenue_company_in_group)"
   ]
  },
  {
   "cell_type": "code",
   "execution_count": null,
   "metadata": {},
   "outputs": [],
   "source": [
    "df"
   ]
  },
  {
   "cell_type": "code",
   "execution_count": null,
   "metadata": {},
   "outputs": [],
   "source": [
    "cities = fortune.groupby(\"Location\")\n",
    "df = pd.DataFrame(columns = fortune.columns)\n",
    "df"
   ]
  },
  {
   "cell_type": "code",
   "execution_count": null,
   "metadata": {},
   "outputs": [],
   "source": [
    "for city, data in cities:\n",
    "    highest_revenue_in_city = data.nlargest(1, \"Revenue\")\n",
    "    df = df.append(highest_revenue_in_city)"
   ]
  },
  {
   "cell_type": "code",
   "execution_count": null,
   "metadata": {},
   "outputs": [],
   "source": [
    "df"
   ]
  },
  {
   "cell_type": "code",
   "execution_count": null,
   "metadata": {},
   "outputs": [],
   "source": []
  },
  {
   "cell_type": "code",
   "execution_count": null,
   "metadata": {},
   "outputs": [],
   "source": []
  },
  {
   "cell_type": "code",
   "execution_count": null,
   "metadata": {},
   "outputs": [],
   "source": []
  },
  {
   "cell_type": "code",
   "execution_count": null,
   "metadata": {},
   "outputs": [],
   "source": []
  },
  {
   "cell_type": "code",
   "execution_count": null,
   "metadata": {},
   "outputs": [],
   "source": []
  },
  {
   "cell_type": "code",
   "execution_count": null,
   "metadata": {},
   "outputs": [],
   "source": []
  },
  {
   "cell_type": "code",
   "execution_count": null,
   "metadata": {},
   "outputs": [],
   "source": []
  },
  {
   "cell_type": "code",
   "execution_count": null,
   "metadata": {},
   "outputs": [],
   "source": []
  },
  {
   "cell_type": "code",
   "execution_count": null,
   "metadata": {},
   "outputs": [],
   "source": []
  },
  {
   "cell_type": "code",
   "execution_count": null,
   "metadata": {},
   "outputs": [],
   "source": []
  },
  {
   "cell_type": "code",
   "execution_count": null,
   "metadata": {},
   "outputs": [],
   "source": []
  },
  {
   "cell_type": "code",
   "execution_count": null,
   "metadata": {},
   "outputs": [],
   "source": []
  },
  {
   "cell_type": "code",
   "execution_count": null,
   "metadata": {},
   "outputs": [],
   "source": []
  },
  {
   "cell_type": "code",
   "execution_count": null,
   "metadata": {},
   "outputs": [],
   "source": []
  },
  {
   "cell_type": "code",
   "execution_count": null,
   "metadata": {},
   "outputs": [],
   "source": []
  },
  {
   "cell_type": "code",
   "execution_count": null,
   "metadata": {},
   "outputs": [],
   "source": []
  },
  {
   "cell_type": "code",
   "execution_count": null,
   "metadata": {},
   "outputs": [],
   "source": []
  },
  {
   "cell_type": "code",
   "execution_count": null,
   "metadata": {},
   "outputs": [],
   "source": []
  },
  {
   "cell_type": "code",
   "execution_count": null,
   "metadata": {},
   "outputs": [],
   "source": []
  },
  {
   "cell_type": "code",
   "execution_count": null,
   "metadata": {},
   "outputs": [],
   "source": []
  },
  {
   "cell_type": "code",
   "execution_count": null,
   "metadata": {},
   "outputs": [],
   "source": []
  },
  {
   "cell_type": "code",
   "execution_count": 9,
   "metadata": {},
   "outputs": [],
   "source": [
    "import pandas as pd\n",
    "\n",
    "# Sample data\n",
    "data = {\n",
    "    'ASIN': ['B00TY97EH0', 'B00TY97EH0', 'B00TY97EH0', 'B00TY97EH0', 'B085GKK6K3', 'B085GKK6K3', 'B085GKK6K3'],\n",
    "    'Attribute Value': ['Safety', 'Manufacturer: Cat', 'Made in: Bangladesh', 'Item Package Weight: 3.1 pounds', \n",
    "                        'Double exfoliating action.', 'With Natural Silica particles, Orange Peel and 10% Alpha-Polyhydroxy Acids.',\n",
    "                        'For all skin types, especially dry and rough skin.']\n",
    "}\n",
    "\n",
    "df = pd.DataFrame(data)\n",
    "\n",
    "# Concatenate 'Attribute Value' for the same 'ASIN'\n",
    "df['Combined Attribute Value'] = df.groupby('ASIN')['Attribute Value'].transform(lambda x: ' '.join(x))\n",
    "\n",
    "# Drop duplicate rows\n",
    "# df = df.drop_duplicates(subset=['ASIN', 'Combined Attribute Value']).reset_index(drop=True)\n",
    "\n",
    "\n"
   ]
  },
  {
   "cell_type": "code",
   "execution_count": 10,
   "metadata": {},
   "outputs": [
    {
     "data": {
      "text/plain": [
       "0    Safety Manufacturer: Cat Made in: Bangladesh I...\n",
       "1    Safety Manufacturer: Cat Made in: Bangladesh I...\n",
       "2    Safety Manufacturer: Cat Made in: Bangladesh I...\n",
       "3    Safety Manufacturer: Cat Made in: Bangladesh I...\n",
       "4    Double exfoliating action. With Natural Silica...\n",
       "5    Double exfoliating action. With Natural Silica...\n",
       "6    Double exfoliating action. With Natural Silica...\n",
       "Name: Combined Attribute Value, dtype: object"
      ]
     },
     "execution_count": 10,
     "metadata": {},
     "output_type": "execute_result"
    }
   ],
   "source": [
    "df['Combined Attribute Value']"
   ]
  },
  {
   "cell_type": "code",
   "execution_count": null,
   "metadata": {},
   "outputs": [],
   "source": []
  }
 ],
 "metadata": {
  "anaconda-cloud": {},
  "kernelspec": {
   "display_name": "Python 3 (ipykernel)",
   "language": "python",
   "name": "python3"
  },
  "language_info": {
   "codemirror_mode": {
    "name": "ipython",
    "version": 3
   },
   "file_extension": ".py",
   "mimetype": "text/x-python",
   "name": "python",
   "nbconvert_exporter": "python",
   "pygments_lexer": "ipython3",
   "version": "3.9.12"
  }
 },
 "nbformat": 4,
 "nbformat_minor": 1
}
